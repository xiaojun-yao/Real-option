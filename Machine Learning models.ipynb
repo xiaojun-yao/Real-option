{
  "nbformat": 4,
  "nbformat_minor": 0,
  "metadata": {
    "colab": {
      "name": "Untitled4.ipynb",
      "provenance": [],
      "collapsed_sections": []
    },
    "kernelspec": {
      "name": "python3",
      "display_name": "Python 3"
    }
  },
  "cells": [
    {
      "cell_type": "code",
      "metadata": {
        "id": "nG0vNNkFLrMu",
        "colab_type": "code",
        "colab": {
          "base_uri": "https://localhost:8080/",
          "height": 71
        },
        "outputId": "70858939-8df2-4247-bdb2-33c3abde8e4c"
      },
      "source": [
        "import numpy as np\n",
        "import pandas as pd  \n",
        "from numpy import newaxis\n",
        "import matplotlib.pyplot as plt\n",
        "from sklearn.linear_model import LinearRegression\n",
        "import seaborn as seabornInstance \n",
        "from sklearn.neural_network import MLPRegressor\n",
        "from sklearn.metrics import mean_squared_error\n",
        "from sklearn.linear_model import ElasticNetCV\n",
        "from sklearn.linear_model import LassoCV\n",
        "from sklearn.linear_model import RidgeCV\n",
        "from sklearn.ensemble import RandomForestRegressor\n",
        "from sklearn.model_selection import cross_val_predict, cross_val_score, KFold\n",
        "from keras.models import Sequential\n",
        "from keras.layers import Dense\n",
        "from keras.layers import LSTM\n",
        "from keras.layers import Dropout\n",
        "from sklearn import tree\n",
        "import warnings\n",
        "warnings.filterwarnings('ignore')\n",
        "from sklearn import linear_model\n",
        "from sklearn import svm\n",
        "from sklearn.tree import DecisionTreeRegressor\n",
        "from sklearn.naive_bayes import GaussianNB\n",
        "from sklearn.ensemble import AdaBoostRegressor, RandomForestRegressor\n",
        "from sklearn.neural_network import MLPRegressor\n",
        "from sklearn.model_selection import train_test_split,ShuffleSplit,learning_curve\n",
        "from sklearn.metrics import r2_score,mean_squared_error\n",
        "import matplotlib.pyplot as plt\n",
        "import seaborn as sns\n",
        "import keras\n",
        "from keras.models import Sequential\n",
        "from keras.layers import Dense, Activation\n",
        "from keras import regularizers\n",
        "from keras import backend as K\n",
        "from sklearn import metrics\n",
        "\n",
        "\n",
        "algorithmName = []\n",
        "trainingAccList = []\n",
        "testingAccList = []\n",
        "mseList = []\n",
        "RMSE=[]"
      ],
      "execution_count": 4,
      "outputs": [
        {
          "output_type": "stream",
          "text": [
            "/usr/local/lib/python3.6/dist-packages/statsmodels/tools/_testing.py:19: FutureWarning: pandas.util.testing is deprecated. Use the functions in the public API at pandas.testing instead.\n",
            "  import pandas.util.testing as tm\n"
          ],
          "name": "stderr"
        }
      ]
    },
    {
      "cell_type": "code",
      "metadata": {
        "id": "xMJedsd6L7ip",
        "colab_type": "code",
        "colab": {}
      },
      "source": [
        "import numpy as np\n",
        "T=10\n",
        "n_sim=10000\n",
        "buyout=100\n",
        "buy_year=5\n",
        "r=0.05#risk free risk\n",
        "price_0=25#oil price\n",
        "price_sigma=0.15\n",
        "opex_0=10.2\n",
        "opex_sigma=0.1\n",
        "quant=np.array([9, 7.7, 6.5, 5.5, 4.7, 4, 3.4, 2.9, 2.5, 2.1])\n",
        "capex=5\n",
        "rng = np.random.RandomState(1)\n",
        "\n",
        "\n",
        "# price matrix and opex matrix\n",
        "price = np.c_[np.ones((n_sim, 1))*price_0, np.empty([n_sim, T - 1])]\n",
        "opex = np.c_[np.ones((n_sim, 1))*opex_0, np.empty([n_sim, T - 1])]\n",
        "\n",
        "# simulate prices (GBM) and opex \n",
        "for t in np.arange(1,T):\n",
        "    price[:, t] = price[:, t - 1] * np.exp(-0.5*(price_sigma**2)*1 + \n",
        "                                           price_sigma*rng.randn(n_sim).T)\n",
        "    \n",
        "    opex[:, t] = opex[:, t - 1] * np.exp(0.02-0.5*((opex_sigma)**2)*1 +\n",
        "                                            opex_sigma*rng.randn(n_sim).T)\n",
        "\n",
        "\n",
        "rev_gross = quant*price\n",
        "cost = quant*opex\n",
        "rev_net = rev_gross-cost-capex\n",
        "net_cf = rev_net * 3/4\n",
        "dis_fact = np.array([(1 + r)**(-i - 1) for i in range(T)])\n",
        "\n",
        "# net present value of cash flows\n",
        "npv = (net_cf * dis_fact).sum(axis=1)\n",
        "\n",
        "# net present value of cash flows in years 6-10\n",
        "npv_cont = (net_cf[:, buy_year:] * dis_fact[buy_year:]).sum(axis=1)\n",
        "\n",
        "# put together regressor matrix with price and opex in buyout year\n",
        "X_price = price[:, buy_year]\n",
        "X_opex = opex[:, buy_year]\n",
        "X = np.c_[X_price, X_opex]"
      ],
      "execution_count": 5,
      "outputs": []
    },
    {
      "cell_type": "code",
      "metadata": {
        "id": "VxEBN7Z-MF6Q",
        "colab_type": "code",
        "colab": {
          "base_uri": "https://localhost:8080/",
          "height": 51
        },
        "outputId": "a9960e5f-569c-493f-bd6b-bc85a2102159"
      },
      "source": [
        "Y = npv_cont[..., newaxis]\n",
        "\n",
        "train_X = X[500:]\n",
        "test_X = X[:500]\n",
        "train_Y = Y[500:]\n",
        "test_Y = Y[:500]\n",
        "\n",
        "print(\"Traing data size: \", train_X.shape)\n",
        "print(\"Testing data size: \", test_X.shape)\n",
        "\n",
        "algorithmName = []\n",
        "trainingAccList = []\n",
        "testingAccList = []\n",
        "mseList = []"
      ],
      "execution_count": 6,
      "outputs": [
        {
          "output_type": "stream",
          "text": [
            "Traing data size:  (9500, 2)\n",
            "Testing data size:  (500, 2)\n"
          ],
          "name": "stdout"
        }
      ]
    },
    {
      "cell_type": "code",
      "metadata": {
        "id": "TrFw0SpgQZGc",
        "colab_type": "code",
        "colab": {}
      },
      "source": [
        "# define model I am using for regression\n",
        "lr = LinearRegression()\n",
        "\n",
        "# training process\n",
        "lr.fit(train_X, train_Y)\n",
        "\n",
        "algorithmName.append(\"LR\")"
      ],
      "execution_count": 7,
      "outputs": []
    },
    {
      "cell_type": "code",
      "metadata": {
        "id": "IMlf4_QmQgdr",
        "colab_type": "code",
        "colab": {
          "base_uri": "https://localhost:8080/",
          "height": 51
        },
        "outputId": "f577887b-fa41-4f4e-a5e4-94bb3f851874"
      },
      "source": [
        "cv_pred_lr = lr.predict(test_X)\n",
        "\n",
        "mse = mean_squared_error(test_Y, cv_pred_lr)\n",
        "mseList.append(mse)\n",
        "print(\"MSE: %.2f\" % mse)\n",
        "print(\"RMSE: %.2f\" % (mse**(1/2.0)))"
      ],
      "execution_count": 8,
      "outputs": [
        {
          "output_type": "stream",
          "text": [
            "MSE: 822.16\n",
            "RMSE: 28.67\n"
          ],
          "name": "stdout"
        }
      ]
    },
    {
      "cell_type": "code",
      "metadata": {
        "id": "DyOkqCMcQhAC",
        "colab_type": "code",
        "colab": {}
      },
      "source": [
        "# define model I am using for regression\n",
        "SVR = svm.SVR(kernel='rbf', degree=3)\n",
        "\n",
        "# training process\n",
        "SVR.fit(train_X, train_Y)\n",
        "\n",
        "algorithmName.append(\"SVR\")"
      ],
      "execution_count": 9,
      "outputs": []
    },
    {
      "cell_type": "code",
      "metadata": {
        "id": "iWpUqBOVQhF3",
        "colab_type": "code",
        "colab": {
          "base_uri": "https://localhost:8080/",
          "height": 51
        },
        "outputId": "ee7d9b6c-dbb5-40c1-e303-60912f805920"
      },
      "source": [
        "cv_pred_SVR = SVR.predict(test_X)\n",
        "\n",
        "mse = mean_squared_error(test_Y, cv_pred_SVR)\n",
        "mseList.append(mse)\n",
        "print(\"MSE: %.2f\" % mse)\n",
        "print(\"RMSE: %.2f\" % (mse**(1/2.0)))"
      ],
      "execution_count": 10,
      "outputs": [
        {
          "output_type": "stream",
          "text": [
            "MSE: 1084.76\n",
            "RMSE: 32.94\n"
          ],
          "name": "stdout"
        }
      ]
    },
    {
      "cell_type": "code",
      "metadata": {
        "id": "oU8sYXmCQhOU",
        "colab_type": "code",
        "colab": {
          "base_uri": "https://localhost:8080/",
          "height": 68
        },
        "outputId": "d4fb174e-71ec-41bc-e717-51588dfb950a"
      },
      "source": [
        "max_val = []\n",
        "results=[]\n",
        "for i in cv_pred_SVR:\n",
        "    if i<100:\n",
        "        max_val.append(100)\n",
        "    elif 100<i<120:\n",
        "        max_val.append(i)\n",
        "    else:\n",
        "        max_val.append(i-40+(i/3-40))\n",
        "# expected NPV with option\n",
        "\n",
        "enpv_w_opt = ((net_cf[:, :buy_year] * dis_fact[:buy_year]).sum(axis=1)).mean(axis=0) + np.mean(max_val,axis=0)+capex\n",
        "# expected NPV without the option\n",
        "enpv_wo_opt = npv.mean(axis=0) \n",
        "opt_val = enpv_w_opt - enpv_wo_opt\n",
        "\n",
        "print (\"The ENPV of the project without the option is $%.1f\" % enpv_wo_opt)\n",
        "print (\"The ENPV of the project with the option is $%.1f\" % enpv_w_opt)\n",
        "print (\"The value of the option to sell in year %s is $%.1f\" % (buy_year, opt_val))"
      ],
      "execution_count": 11,
      "outputs": [
        {
          "output_type": "stream",
          "text": [
            "The ENPV of the project without the option is $390.7\n",
            "The ENPV of the project with the option is $417.7\n",
            "The value of the option to sell in year 5 is $27.0\n"
          ],
          "name": "stdout"
        }
      ]
    },
    {
      "cell_type": "code",
      "metadata": {
        "id": "E-cTQCOpQhWV",
        "colab_type": "code",
        "colab": {}
      },
      "source": [
        "# define model I am using for regression\n",
        "rf = RandomForestRegressor(n_estimators=100, max_depth=30, random_state=0)\n",
        "\n",
        "# training process\n",
        "rf.fit(train_X, train_Y)\n",
        "\n",
        "algorithmName.append(\"RF\")"
      ],
      "execution_count": 12,
      "outputs": []
    },
    {
      "cell_type": "code",
      "metadata": {
        "id": "IEMwGEBqSGD5",
        "colab_type": "code",
        "colab": {
          "base_uri": "https://localhost:8080/",
          "height": 51
        },
        "outputId": "b16547ca-d6f1-48d7-fa6c-311e4f4813a0"
      },
      "source": [
        "cv_pred_rf = rf.predict(test_X)\n",
        "\n",
        "mse = mean_squared_error(test_Y, cv_pred_rf)\n",
        "mseList.append(mse)\n",
        "print(\"MSE: %.2f\" % mse)\n",
        "print(\"RMSE: %.2f\" % (mse**(1/2.0)))"
      ],
      "execution_count": 13,
      "outputs": [
        {
          "output_type": "stream",
          "text": [
            "MSE: 956.67\n",
            "RMSE: 30.93\n"
          ],
          "name": "stdout"
        }
      ]
    },
    {
      "cell_type": "code",
      "metadata": {
        "id": "fthKrK2rSGIm",
        "colab_type": "code",
        "colab": {}
      },
      "source": [
        "# define model I am using for regression\n",
        "lasso = LassoCV()\n",
        "\n",
        "# training process\n",
        "lasso.fit(train_X, train_Y)\n",
        "\n",
        "algorithmName.append(\"Lasso\")"
      ],
      "execution_count": 14,
      "outputs": []
    },
    {
      "cell_type": "code",
      "metadata": {
        "id": "jTDFRC_YSGPA",
        "colab_type": "code",
        "colab": {
          "base_uri": "https://localhost:8080/",
          "height": 51
        },
        "outputId": "30360e55-3dce-4021-ac0e-596a502883a1"
      },
      "source": [
        "cv_pred_lasso = lasso.predict(test_X)\n",
        "\n",
        "mse = mean_squared_error(test_Y, cv_pred_lasso)\n",
        "mseList.append(mse)\n",
        "print(\"MSE: %.2f\" % mse)\n",
        "print(\"RMSE: %.2f\" % (mse**(1/2.0)))"
      ],
      "execution_count": 15,
      "outputs": [
        {
          "output_type": "stream",
          "text": [
            "MSE: 822.08\n",
            "RMSE: 28.67\n"
          ],
          "name": "stdout"
        }
      ]
    },
    {
      "cell_type": "code",
      "metadata": {
        "id": "ufFeJ1ldSGdh",
        "colab_type": "code",
        "colab": {}
      },
      "source": [
        "# define model I am using for regression\n",
        "ridge = RidgeCV()\n",
        "\n",
        "# training process\n",
        "ridge.fit(train_X, train_Y)\n",
        "\n",
        "algorithmName.append(\"Ridge\")"
      ],
      "execution_count": 16,
      "outputs": []
    },
    {
      "cell_type": "code",
      "metadata": {
        "id": "639deEZ7SGZb",
        "colab_type": "code",
        "colab": {
          "base_uri": "https://localhost:8080/",
          "height": 51
        },
        "outputId": "845a7534-b136-4924-cfe5-4365db603b06"
      },
      "source": [
        "cv_pred_ridge = ridge.predict(test_X)\n",
        "\n",
        "mse = mean_squared_error(test_Y, cv_pred_ridge)\n",
        "mseList.append(mse)\n",
        "print(\"MSE: %.2f\" % mse)\n",
        "print(\"RMSE: %.2f\" % (mse**(1/2.0)))"
      ],
      "execution_count": 17,
      "outputs": [
        {
          "output_type": "stream",
          "text": [
            "MSE: 822.16\n",
            "RMSE: 28.67\n"
          ],
          "name": "stdout"
        }
      ]
    },
    {
      "cell_type": "code",
      "metadata": {
        "id": "gfjHHphoSGXD",
        "colab_type": "code",
        "colab": {}
      },
      "source": [
        "# MLP regressor, one layer, more neurons\n",
        "model = MLPRegressor(hidden_layer_sizes=(128, ), activation='relu', solver='adam',batch_size='auto',validation_fraction=0.1, \\\n",
        "                     random_state=1, max_iter=500)\n",
        "model.fit(train_X, train_Y)\n",
        "algorithmName.append(\"DNN\")"
      ],
      "execution_count": 18,
      "outputs": []
    },
    {
      "cell_type": "code",
      "metadata": {
        "id": "Nc7EGe_aSGVb",
        "colab_type": "code",
        "colab": {
          "base_uri": "https://localhost:8080/",
          "height": 51
        },
        "outputId": "a623a15a-9e4b-454a-c2a6-0e60e441e458"
      },
      "source": [
        "cv_pred_dnn = model.predict(test_X)\n",
        "mse = mean_squared_error(test_Y, cv_pred_dnn)\n",
        "mseList.append(mse)\n",
        "print(\"MSE: %.2f\" % mse)\n",
        "print(\"RMSE: %.2f\" % (mse**(1/2.0)))"
      ],
      "execution_count": 19,
      "outputs": [
        {
          "output_type": "stream",
          "text": [
            "MSE: 827.88\n",
            "RMSE: 28.77\n"
          ],
          "name": "stdout"
        }
      ]
    },
    {
      "cell_type": "code",
      "metadata": {
        "id": "7IIai2aaMOKG",
        "colab_type": "code",
        "colab": {
          "base_uri": "https://localhost:8080/",
          "height": 85
        },
        "outputId": "1214883a-326a-497b-a378-757d53f820f5"
      },
      "source": [
        "import lightgbm as ltb\n",
        "D = ltb.LGBMRegressor(boosting_type='gbdt', class_weight=None, colsample_bytree=1.0,\n",
        "       importance_type='split', learning_rate=0.09, max_depth=-1,\n",
        "       min_child_samples=20, min_child_weight=0.001, min_split_gain=0.0,\n",
        "       n_estimators=100, n_jobs=-1, num_leaves=31, objective=None,\n",
        "       random_state=None, reg_alpha=0.0, reg_lambda=0.0, silent=True,\n",
        "       subsample=1.0, subsample_for_bin=20)\n",
        "D.fit(train_X, train_Y) \n",
        "algorithmName.append(\"LGBM\") \n",
        "score_lr_D = D.score(train_X, train_Y)  \n",
        "print(\"Training score: \", score_lr_D*100,\"%\")\n",
        "trainingAccList.append(score_lr_D)\n",
        "\n",
        "print(\"Testing score: \", D.score(test_X, test_Y)*100,\"%\")\n",
        "testingAccList.append(D.score(test_X, test_Y))\n",
        "cv_pred_lr_D = D.predict(test_X)\n",
        "\n",
        "mse = mean_squared_error(test_Y, cv_pred_lr_D)\n",
        "mseList.append(mse)\n",
        "RMSE.append(np.sqrt(metrics.mean_squared_error(test_Y, cv_pred_lr_D)))\n",
        "print(\"MSE: %.2f\" % mse)\n",
        "print(\"RMSE: %.2f\" % np.sqrt(metrics.mean_squared_error(test_Y, cv_pred_lr_D)))"
      ],
      "execution_count": 20,
      "outputs": [
        {
          "output_type": "stream",
          "text": [
            "Training score:  77.1925451887981 %\n",
            "Testing score:  76.52689575166536 %\n",
            "MSE: 1291.77\n",
            "RMSE: 35.94\n"
          ],
          "name": "stdout"
        }
      ]
    },
    {
      "cell_type": "code",
      "metadata": {
        "id": "a0LoDm_pMvMm",
        "colab_type": "code",
        "colab": {
          "base_uri": "https://localhost:8080/",
          "height": 68
        },
        "outputId": "309de338-98b3-4802-fb29-09ccca744942"
      },
      "source": [
        "max_val = []\n",
        "results=[]\n",
        "for i in cv_pred_lr_D:\n",
        "    if i<100:\n",
        "        max_val.append(100)\n",
        "    elif 100<i<120:\n",
        "        max_val.append(i)\n",
        "    else:\n",
        "        max_val.append(i-40+(i/3-40))\n",
        "# expected NPV with option\n",
        "\n",
        "enpv_w_opt = ((net_cf[:, :buy_year] * dis_fact[:buy_year]).sum(axis=1)).mean(axis=0) + np.mean(max_val,axis=0)+capex\n",
        "# expected NPV without the option\n",
        "enpv_wo_opt = npv.mean(axis=0) \n",
        "opt_val = enpv_w_opt - enpv_wo_opt\n",
        "\n",
        "print (\"The ENPV of the project without the option is $%.1f\" % enpv_wo_opt)\n",
        "print (\"The ENPV of the project with the option is $%.1f\" % enpv_w_opt)\n",
        "print (\"The value of the option to sell in year %s is $%.1f\" % (buy_year, opt_val))"
      ],
      "execution_count": 21,
      "outputs": [
        {
          "output_type": "stream",
          "text": [
            "The ENPV of the project without the option is $390.7\n",
            "The ENPV of the project with the option is $419.9\n",
            "The value of the option to sell in year 5 is $29.3\n"
          ],
          "name": "stdout"
        }
      ]
    },
    {
      "cell_type": "code",
      "metadata": {
        "id": "d3-c7knKM7bE",
        "colab_type": "code",
        "colab": {
          "base_uri": "https://localhost:8080/",
          "height": 102
        },
        "outputId": "b575a683-9575-4b3f-d2cd-28eba96e46b2"
      },
      "source": [
        "import xgboost as xgb\n",
        "D = xgb.XGBRegressor()\n",
        "D.fit(train_X, train_Y)\n",
        "\n",
        "score_lr_D = D.score(train_X, train_Y)  \n",
        "print(\"Training score: \", score_lr_D*100,\"%\")\n",
        "trainingAccList.append(score_lr_D)\n",
        "\n",
        "print(\"Testing score: \", D.score(test_X, test_Y)*100,\"%\")\n",
        "testingAccList.append(D.score(test_X, test_Y))\n",
        "cv_pred_lr_D = D.predict(test_X)\n",
        "algorithmName.append(\"xgboost\")\n",
        "mse = mean_squared_error(test_Y, cv_pred_lr_D)\n",
        "mseList.append(mse)\n",
        "RMSE.append(np.sqrt(metrics.mean_squared_error(test_Y, cv_pred_lr_D)))\n",
        "print(\"MSE: %.2f\" % mse)\n",
        "print(\"RMSE: %.2f\" % np.sqrt(metrics.mean_squared_error(test_Y, cv_pred_lr_D)))"
      ],
      "execution_count": 22,
      "outputs": [
        {
          "output_type": "stream",
          "text": [
            "[23:03:42] WARNING: /workspace/src/objective/regression_obj.cu:152: reg:linear is now deprecated in favor of reg:squarederror.\n",
            "Training score:  85.87055727005021 %\n",
            "Testing score:  84.7083482790393 %\n",
            "MSE: 841.53\n",
            "RMSE: 29.01\n"
          ],
          "name": "stdout"
        }
      ]
    },
    {
      "cell_type": "code",
      "metadata": {
        "id": "i6LYYFxxNGGV",
        "colab_type": "code",
        "colab": {
          "base_uri": "https://localhost:8080/",
          "height": 85
        },
        "outputId": "800d1f05-2ced-4208-f8e2-543ab69f06a0"
      },
      "source": [
        "from sklearn.ensemble import GradientBoostingRegressor\n",
        "D = GradientBoostingRegressor(random_state=0)\n",
        "# training process\n",
        "D.fit(train_X, train_Y)\n",
        "algorithmName.append(\"GB\")\n",
        "score_lr_D = D.score(train_X, train_Y)  \n",
        "print(\"Training score: \", score_lr_D*100,\"%\")\n",
        "trainingAccList.append(score_lr_D)\n",
        "\n",
        "print(\"Testing score: \", D.score(test_X, test_Y)*100,\"%\")\n",
        "testingAccList.append(D.score(test_X, test_Y))\n",
        "cv_pred_lr_D = D.predict(test_X)\n",
        "mse = mean_squared_error(test_Y, cv_pred_lr_D)\n",
        "mseList.append(mse)\n",
        "RMSE.append(np.sqrt(metrics.mean_squared_error(test_Y, cv_pred_lr_D)))\n",
        "print(\"MSE: %.2f\" % mse)\n",
        "print(\"RMSE: %.2f\" % np.sqrt(metrics.mean_squared_error(test_Y, cv_pred_lr_D)))"
      ],
      "execution_count": 23,
      "outputs": [
        {
          "output_type": "stream",
          "text": [
            "Training score:  85.96848919120725 %\n",
            "Testing score:  84.65982368271567 %\n",
            "MSE: 844.20\n",
            "RMSE: 29.06\n"
          ],
          "name": "stdout"
        }
      ]
    },
    {
      "cell_type": "code",
      "metadata": {
        "id": "jP9F3qioNIef",
        "colab_type": "code",
        "colab": {
          "base_uri": "https://localhost:8080/",
          "height": 34
        },
        "outputId": "6afc1cf7-c0d5-464b-db29-46c9b5ac5816"
      },
      "source": [
        "len(mseList)"
      ],
      "execution_count": 24,
      "outputs": [
        {
          "output_type": "execute_result",
          "data": {
            "text/plain": [
              "9"
            ]
          },
          "metadata": {
            "tags": []
          },
          "execution_count": 24
        }
      ]
    },
    {
      "cell_type": "code",
      "metadata": {
        "id": "ierc2pOcWrY9",
        "colab_type": "code",
        "colab": {
          "base_uri": "https://localhost:8080/",
          "height": 34
        },
        "outputId": "734820e8-b231-4005-cabb-667ee28b6aff"
      },
      "source": [
        "len(algorithmName)"
      ],
      "execution_count": 25,
      "outputs": [
        {
          "output_type": "execute_result",
          "data": {
            "text/plain": [
              "9"
            ]
          },
          "metadata": {
            "tags": []
          },
          "execution_count": 25
        }
      ]
    },
    {
      "cell_type": "code",
      "metadata": {
        "id": "FbriHWVTY6Ju",
        "colab_type": "code",
        "colab": {
          "base_uri": "https://localhost:8080/",
          "height": 295
        },
        "outputId": "39399f57-5409-417b-b041-fa5736957bee"
      },
      "source": [
        "y_pos = np.arange(len(algorithmName))\n",
        "plt.bar(y_pos, mseList, color=['black', 'red', 'green', 'blue', 'cyan', 'orange','pink','yellow','grey'])\n",
        "plt.xticks(y_pos, algorithmName)\n",
        "plt.title(\"Comparison of mean square error\")\n",
        "plt.xlabel(\"Algorithm Name\")\n",
        "plt.ylabel(\"Mean Square Error\")\n",
        "plt.show()"
      ],
      "execution_count": 26,
      "outputs": [
        {
          "output_type": "display_data",
          "data": {
            "image/png": "[encoded data removed]",
            "text/plain": [
              "<Figure size 432x288 with 1 Axes>"
            ]
          },
          "metadata": {
            "tags": [],
            "needs_background": "light"
          }
        }
      ]
    }
  ]
}