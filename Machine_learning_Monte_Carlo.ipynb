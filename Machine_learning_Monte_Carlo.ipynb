{
  "nbformat": 4,
  "nbformat_minor": 0,
  "metadata": {
    "colab": {
      "name": "Machine learning Monte Carlo.ipynb",
      "provenance": []
    },
    "kernelspec": {
      "name": "python3",
      "display_name": "Python 3"
    }
  },
  "cells": [
    {
      "cell_type": "code",
      "metadata": {
        "id": "XLyW_8s_CPy1",
        "colab_type": "code",
        "colab": {}
      },
      "source": [
        "import numpy as np\n",
        "import matplotlib.pyplot as plt\n",
        "from numpy import newaxis\n",
        "T=10\n",
        "n_sim=10000\n",
        "buy_year=5\n",
        "a_0=0.4\n",
        "a_sigma=0.1\n",
        "b_0=0.6\n",
        "b_sigma=0.05\n",
        "c_0=0.5\n",
        "c_sigma=0.05\n",
        "d_0=0.1\n",
        "d_sigma=0.15\n",
        "e_0=0.3\n",
        "e_sigma=0.1\n",
        "rng = np.random.RandomState(1)\n",
        "a = np.c_[np.ones((n_sim, 1))*a_0, np.empty([n_sim, T - 1])]\n",
        "b = np.c_[np.ones((n_sim, 1))*b_0, np.empty([n_sim, T - 1])]\n",
        "c = np.c_[np.ones((n_sim, 1))*c_0, np.empty([n_sim, T - 1])]\n",
        "d = np.c_[np.ones((n_sim, 1))*d_0, np.empty([n_sim, T - 1])]\n",
        "e = np.c_[np.ones((n_sim, 1))*e_0, np.empty([n_sim, T - 1])]\n",
        "for t in np.arange(1,T):\n",
        "    a[:, t] = a[:, t - 1] * np.exp(0.01-0.5*(a_sigma**2)*1 + \n",
        "                                           a_sigma*rng.randn(n_sim).T)\n",
        "    b[:, t] = b[:, t - 1] * np.exp(0.02-0.5*((b_sigma)**2)*1 +\n",
        "                                            b_sigma*rng.randn(n_sim).T)\n",
        "    c[:, t] = c[:, t - 1] * np.exp(0.05-0.5*((c_sigma)**2)*1 +\n",
        "                                            c_sigma*rng.randn(n_sim).T)\n",
        "    \n",
        "    d[:, t] = d[:, t - 1] * np.exp(0.07-0.5*((d_sigma)**2)*1 +\n",
        "                                            d_sigma*rng.randn(n_sim).T)\n",
        "    \n",
        "    e[:, t] = e[:, t - 1] * np.exp(0.1-0.5*((e_sigma)**2)*1 +\n",
        "                                            e_sigma*rng.randn(n_sim).T)"
      ],
      "execution_count": 1,
      "outputs": []
    },
    {
      "cell_type": "code",
      "metadata": {
        "id": "PyZdaqYtE9tQ",
        "colab_type": "code",
        "colab": {
          "base_uri": "https://localhost:8080/",
          "height": 71
        },
        "outputId": "ae098cb7-c3fc-4b00-e1eb-2fcebe5f3238"
      },
      "source": [
        "import numpy as np\n",
        "import pandas as pd  \n",
        "from numpy import newaxis\n",
        "import matplotlib.pyplot as plt\n",
        "from sklearn.linear_model import LinearRegression\n",
        "import seaborn as seabornInstance \n",
        "from sklearn.neural_network import MLPRegressor\n",
        "from sklearn.metrics import mean_squared_error\n",
        "from sklearn.linear_model import ElasticNetCV\n",
        "from sklearn.linear_model import LassoCV\n",
        "from sklearn.linear_model import RidgeCV\n",
        "from sklearn.ensemble import RandomForestRegressor\n",
        "from sklearn.model_selection import cross_val_predict, cross_val_score, KFold\n",
        "from keras.models import Sequential\n",
        "from keras.layers import Dense\n",
        "from keras.layers import LSTM\n",
        "from keras.layers import Dropout\n",
        "from sklearn import tree\n",
        "import warnings\n",
        "warnings.filterwarnings('ignore')\n",
        "import numpy as np\n",
        "from sklearn import linear_model\n",
        "from sklearn import svm\n",
        "from sklearn.tree import DecisionTreeRegressor\n",
        "from sklearn.naive_bayes import GaussianNB\n",
        "from sklearn.ensemble import AdaBoostRegressor, RandomForestRegressor\n",
        "from sklearn.neural_network import MLPRegressor\n",
        "\n",
        "from sklearn.model_selection import train_test_split,ShuffleSplit,learning_curve\n",
        "from sklearn.metrics import r2_score,mean_squared_error\n",
        "import matplotlib.pyplot as plt\n",
        "\n",
        "import seaborn as sns\n",
        "import pandas as pd\n",
        "import keras\n",
        "from keras.models import Sequential\n",
        "from keras.layers import Dense, Activation\n",
        "from keras import regularizers\n",
        "from keras import backend as K\n",
        "from sklearn import metrics\n",
        "\n",
        "import warnings\n",
        "warnings.filterwarnings(\"ignore\")\n",
        "import numpy as np\n",
        "\n",
        "algorithmName = []\n",
        "trainingAccList = []\n",
        "testingAccList = []\n",
        "mseList = []\n",
        "RMSE=[]"
      ],
      "execution_count": 2,
      "outputs": [
        {
          "output_type": "stream",
          "text": [
            "/usr/local/lib/python3.6/dist-packages/statsmodels/tools/_testing.py:19: FutureWarning: pandas.util.testing is deprecated. Use the functions in the public API at pandas.testing instead.\n",
            "  import pandas.util.testing as tm\n"
          ],
          "name": "stderr"
        }
      ]
    },
    {
      "cell_type": "code",
      "metadata": {
        "id": "X5lndPLJCvLb",
        "colab_type": "code",
        "colab": {}
      },
      "source": [
        "Li_rate=a*b*(1-c)*(1-d)*(1-e)\n"
      ],
      "execution_count": 3,
      "outputs": []
    },
    {
      "cell_type": "code",
      "metadata": {
        "id": "ZQzk0rd1EQQQ",
        "colab_type": "code",
        "colab": {}
      },
      "source": [
        "Li1 = (Li_rate[:, buy_year:]).sum(axis=1)"
      ],
      "execution_count": 4,
      "outputs": []
    },
    {
      "cell_type": "code",
      "metadata": {
        "id": "VlxSCzF4sh2G",
        "colab_type": "code",
        "colab": {
          "base_uri": "https://localhost:8080/",
          "height": 282
        },
        "outputId": "f737ad38-7563-4a2d-9f7b-5af40acf378e"
      },
      "source": [
        "plt.plot(Li1)"
      ],
      "execution_count": 5,
      "outputs": [
        {
          "output_type": "execute_result",
          "data": {
            "text/plain": [
              "[<matplotlib.lines.Line2D at 0x7f76e4c37128>]"
            ]
          },
          "metadata": {
            "tags": []
          },
          "execution_count": 5
        },
        {
          "output_type": "display_data",
          "data": {
            "image/png": "[encoded data removed]",
            "text/plain": [
              "<Figure size 432x288 with 1 Axes>"
            ]
          },
          "metadata": {
            "tags": [],
            "needs_background": "light"
          }
        }
      ]
    },
    {
      "cell_type": "code",
      "metadata": {
        "id": "DgfYpzNcEQZB",
        "colab_type": "code",
        "colab": {
          "base_uri": "https://localhost:8080/",
          "height": 51
        },
        "outputId": "8365f9f5-af53-45d9-c458-a65b1f87d8ad"
      },
      "source": [
        "X_a = a[:, buy_year]\n",
        "X_b = b[:, buy_year]\n",
        "X_c = c[:, buy_year]\n",
        "X_d = d[:, buy_year]\n",
        "X_e = e[:, buy_year]\n",
        "X = np.c_[X_a, X_b,X_c,X_d,X_e]\n",
        "Y = Li1[..., newaxis]\n",
        "\n",
        "train_X = X[500:]\n",
        "test_X = X[:500]\n",
        "train_Y = Y[500:]\n",
        "test_Y = Y[:500]\n",
        "print(\"Traing data size: \", train_X.shape)\n",
        "print(\"Testing data size: \", test_X.shape)"
      ],
      "execution_count": 6,
      "outputs": [
        {
          "output_type": "stream",
          "text": [
            "Traing data size:  (9500, 5)\n",
            "Testing data size:  (500, 5)\n"
          ],
          "name": "stdout"
        }
      ]
    },
    {
      "cell_type": "code",
      "metadata": {
        "id": "SbuT6HtlEQV5",
        "colab_type": "code",
        "colab": {
          "base_uri": "https://localhost:8080/",
          "height": 102
        },
        "outputId": "eee4cd93-e29b-4d8c-b6ec-f2b52c111e89"
      },
      "source": [
        "lr = LinearRegression()\n",
        "lr.fit(train_X, train_Y)\n",
        "algorithmName.append(\"LR\")\n",
        "score_lr = lr.score(train_X, train_Y)  \n",
        "print(\"Training score: \", score_lr*100,\"%\")\n",
        "trainingAccList.append(score_lr)\n",
        "print(\"Testing score: \", lr.score(test_X, test_Y)*100,\"%\")\n",
        "testingAccList.append(lr.score(test_X, test_Y))\n",
        "cv_pred_lr = lr.predict(test_X)\n",
        "mse = mean_squared_error(test_Y, cv_pred_lr)\n",
        "mseList.append(mse)\n",
        "RMSE.append(np.sqrt(metrics.mean_squared_error(test_Y, cv_pred_lr)))\n",
        "print(\"MSE: %.2f\" % mse)\n",
        "print(\"RMSE: %.2f\" % np.sqrt(metrics.mean_squared_error(test_Y, cv_pred_lr)))\n",
        "print(\"testing R2 score\",r2_score(test_Y, cv_pred_lr)) "
      ],
      "execution_count": 7,
      "outputs": [
        {
          "output_type": "stream",
          "text": [
            "Training score:  73.64311251415742 %\n",
            "Testing score:  66.64206992090398 %\n",
            "MSE: 0.00\n",
            "RMSE: 0.05\n",
            "testing R2 score 0.6664206992090397\n"
          ],
          "name": "stdout"
        }
      ]
    },
    {
      "cell_type": "code",
      "metadata": {
        "id": "1fvYDb7xXOIH",
        "colab_type": "code",
        "colab": {
          "base_uri": "https://localhost:8080/",
          "height": 34
        },
        "outputId": "7274bc50-e305-42ca-d925-53ecf912abee"
      },
      "source": [
        "List=[]\n",
        "for i in cv_pred_lr:\n",
        "  if i<0.17:\n",
        "    List.append(-60)\n",
        "  elif 0.17<i<0.25:\n",
        "    List.append(100)\n",
        "  elif 0.25<i<0.4:\n",
        "    List.append(200)\n",
        "  elif 0.4<i<0.5:\n",
        "    List.append(300)\n",
        "  else:\n",
        "    List.append(400)\n",
        "a=np.mean(List, axis=0)\n",
        "print(a)"
      ],
      "execution_count": 21,
      "outputs": [
        {
          "output_type": "stream",
          "text": [
            "3.52\n"
          ],
          "name": "stdout"
        }
      ]
    },
    {
      "cell_type": "code",
      "metadata": {
        "id": "I9seh4fnEQUa",
        "colab_type": "code",
        "colab": {
          "base_uri": "https://localhost:8080/",
          "height": 102
        },
        "outputId": "566b61d2-86d6-4799-c5f7-e75480df0f26"
      },
      "source": [
        "import lightgbm as ltb\n",
        "D = ltb.LGBMRegressor(boosting_type='gbdt', class_weight=None, colsample_bytree=1.0,\n",
        "       importance_type='split', learning_rate=0.09, max_depth=-1,\n",
        "       min_child_samples=20, min_child_weight=0.001, min_split_gain=0.0,\n",
        "       n_estimators=100, n_jobs=-1, num_leaves=31, objective=None,\n",
        "       random_state=None, reg_alpha=0.0, reg_lambda=0.0, silent=True,\n",
        "       subsample=1.0, subsample_for_bin=20)\n",
        "D.fit(train_X, train_Y) \n",
        "algorithmName.append(\"LGBMRegressor\") \n",
        "score_lr_D = D.score(train_X, train_Y)  \n",
        "print(\"Training score: \", score_lr_D*100,\"%\")\n",
        "trainingAccList.append(score_lr_D)\n",
        "\n",
        "print(\"Testing score: \", D.score(test_X, test_Y)*100,\"%\")\n",
        "testingAccList.append(D.score(test_X, test_Y))\n",
        "cv_pred_lr_D = D.predict(test_X)\n",
        "\n",
        "mse = mean_squared_error(test_Y, cv_pred_lr_D)\n",
        "mseList.append(mse)\n",
        "RMSE.append(np.sqrt(metrics.mean_squared_error(test_Y, cv_pred_lr_D)))\n",
        "print(\"MSE: %.2f\" % mse)\n",
        "print(\"RMSE: %.2f\" % np.sqrt(metrics.mean_squared_error(test_Y, cv_pred_lr_D)))\n",
        "print(\"testing R2 score\",r2_score(test_Y, cv_pred_lr_D)) "
      ],
      "execution_count": 25,
      "outputs": [
        {
          "output_type": "stream",
          "text": [
            "Training score:  77.14771440255814 %\n",
            "Testing score:  70.9463752415638 %\n",
            "MSE: 0.00\n",
            "RMSE: 0.04\n",
            "testing R2 score 0.709463752415638\n"
          ],
          "name": "stdout"
        }
      ]
    },
    {
      "cell_type": "code",
      "metadata": {
        "id": "M30Jc38hZYyV",
        "colab_type": "code",
        "colab": {
          "base_uri": "https://localhost:8080/",
          "height": 34
        },
        "outputId": "e9f47968-0a7a-4dc2-9931-9bf78694bd66"
      },
      "source": [
        "List=[]\n",
        "for i in cv_pred_lr_D:\n",
        "  if i<0.17:\n",
        "    List.append(-60)\n",
        "  elif 0.17<i<0.25:\n",
        "    List.append(100)\n",
        "  elif 0.25<i<0.4:\n",
        "    List.append(200)\n",
        "  elif 0.4<i<0.5:\n",
        "    List.append(300)\n",
        "  else:\n",
        "    List.append(400)\n",
        "a=np.mean(List, axis=0)\n",
        "print(a)"
      ],
      "execution_count": 26,
      "outputs": [
        {
          "output_type": "stream",
          "text": [
            "0.84\n"
          ],
          "name": "stdout"
        }
      ]
    },
    {
      "cell_type": "code",
      "metadata": {
        "id": "NpI10RhDJVdE",
        "colab_type": "code",
        "colab": {
          "base_uri": "https://localhost:8080/",
          "height": 119
        },
        "outputId": "15d7c5da-399a-4a4a-f28f-0645b18f377f"
      },
      "source": [
        "import xgboost as xgb\n",
        "D = xgb.XGBRegressor()\n",
        "D.fit(train_X, train_Y)\n",
        "algorithmName.append(\"XGBRegressor\")\n",
        "score_lr_D = D.score(train_X, train_Y)  \n",
        "print(\"Training score: \", score_lr_D*100,\"%\")\n",
        "trainingAccList.append(score_lr_D)\n",
        "\n",
        "print(\"Testing score: \", D.score(test_X, test_Y)*100,\"%\")\n",
        "testingAccList.append(D.score(test_X, test_Y))\n",
        "cv_pred_lr_D = D.predict(test_X)\n",
        "\n",
        "mse = mean_squared_error(test_Y, cv_pred_lr_D)\n",
        "mseList.append(mse)\n",
        "RMSE.append(np.sqrt(metrics.mean_squared_error(test_Y, cv_pred_lr_D)))\n",
        "print(\"MSE: %.2f\" % mse)\n",
        "print(\"RMSE: %.2f\" % np.sqrt(metrics.mean_squared_error(test_Y, cv_pred_lr_D)))\n",
        "print(\"testing R2 score\",r2_score(test_Y, cv_pred_lr_D)) "
      ],
      "execution_count": 35,
      "outputs": [
        {
          "output_type": "stream",
          "text": [
            "[18:55:50] WARNING: /workspace/src/objective/regression_obj.cu:152: reg:linear is now deprecated in favor of reg:squarederror.\n",
            "Training score:  81.78249275175112 %\n",
            "Testing score:  73.95891162715773 %\n",
            "MSE: 0.00\n",
            "RMSE: 0.04\n",
            "testing R2 score 0.7395891162715773\n"
          ],
          "name": "stdout"
        }
      ]
    },
    {
      "cell_type": "code",
      "metadata": {
        "id": "U-Y4IvkMZiwL",
        "colab_type": "code",
        "colab": {
          "base_uri": "https://localhost:8080/",
          "height": 34
        },
        "outputId": "6da450fd-2926-4d00-bbe0-7fddec83edd3"
      },
      "source": [
        "List=[]\n",
        "for i in cv_pred_lr_D:\n",
        "  if i<0.17:\n",
        "    List.append(-60)\n",
        "  elif 0.17<i<0.25:\n",
        "    List.append(100)\n",
        "  elif 0.25<i<0.4:\n",
        "    List.append(200)\n",
        "  elif 0.4<i<0.5:\n",
        "    List.append(300)\n",
        "  else:\n",
        "    List.append(400)\n",
        "a=np.mean(List, axis=0)\n",
        "print(a)"
      ],
      "execution_count": 36,
      "outputs": [
        {
          "output_type": "stream",
          "text": [
            "-3.24\n"
          ],
          "name": "stdout"
        }
      ]
    },
    {
      "cell_type": "code",
      "metadata": {
        "id": "ki3FwflVJbkR",
        "colab_type": "code",
        "colab": {
          "base_uri": "https://localhost:8080/",
          "height": 102
        },
        "outputId": "4ac191ae-0aa6-4831-da3f-298aa4b228d3"
      },
      "source": [
        "from sklearn.ensemble import GradientBoostingRegressor\n",
        "D = GradientBoostingRegressor(random_state=0)\n",
        "# training process\n",
        "D.fit(train_X, train_Y)\n",
        "algorithmName.append(\"GradientBoostingRegressor\")\n",
        "score_lr_D = D.score(train_X, train_Y)  \n",
        "print(\"Training score: \", score_lr_D*100,\"%\")\n",
        "trainingAccList.append(score_lr_D)\n",
        "\n",
        "print(\"Testing score: \", D.score(test_X, test_Y)*100,\"%\")\n",
        "testingAccList.append(D.score(test_X, test_Y))\n",
        "cv_pred_lr_D = D.predict(test_X)\n",
        "\n",
        "mse = mean_squared_error(test_Y, cv_pred_lr_D)\n",
        "mseList.append(mse)\n",
        "RMSE.append(np.sqrt(metrics.mean_squared_error(test_Y, cv_pred_lr_D)))\n",
        "print(\"MSE: %.2f\" % mse)\n",
        "print(\"RMSE: %.2f\" % np.sqrt(metrics.mean_squared_error(test_Y, cv_pred_lr_D)))\n",
        "print(\"testing R2 score\",r2_score(test_Y, cv_pred_lr_D)) "
      ],
      "execution_count": 33,
      "outputs": [
        {
          "output_type": "stream",
          "text": [
            "Training score:  81.87660240503126 %\n",
            "Testing score:  74.4991321626497 %\n",
            "MSE: 0.00\n",
            "RMSE: 0.04\n",
            "testing R2 score 0.744991321626497\n"
          ],
          "name": "stdout"
        }
      ]
    },
    {
      "cell_type": "code",
      "metadata": {
        "id": "R806Rd84ZvPV",
        "colab_type": "code",
        "colab": {
          "base_uri": "https://localhost:8080/",
          "height": 34
        },
        "outputId": "5261f88f-0928-49eb-bead-5dbf72c3856e"
      },
      "source": [
        "List=[]\n",
        "for i in cv_pred_lr_D:\n",
        "  if i<0.17:\n",
        "    List.append(-60)\n",
        "  elif 0.17<i<0.25:\n",
        "    List.append(100)\n",
        "  elif 0.25<i<0.4:\n",
        "    List.append(200)\n",
        "  elif 0.4<i<0.5:\n",
        "    List.append(300)\n",
        "  else:\n",
        "    List.append(400)\n",
        "a=np.mean(List, axis=0)\n",
        "print(a)"
      ],
      "execution_count": 34,
      "outputs": [
        {
          "output_type": "stream",
          "text": [
            "-3.44\n"
          ],
          "name": "stdout"
        }
      ]
    },
    {
      "cell_type": "code",
      "metadata": {
        "id": "x6-dmf5MJicB",
        "colab_type": "code",
        "colab": {
          "base_uri": "https://localhost:8080/",
          "height": 102
        },
        "outputId": "4c534e39-5f87-43a9-cffc-66528fb874da"
      },
      "source": [
        "D=RandomForestRegressor(max_depth=40,min_samples_leaf=3,min_samples_split=2,n_estimators=12)\n",
        "# training process\n",
        "D.fit(train_X, train_Y)\n",
        "algorithmName.append(\"RandomForestRegressor\")\n",
        "score_lr_D = D.score(train_X, train_Y)  \n",
        "print(\"Training score: \", score_lr_D*100,\"%\")\n",
        "trainingAccList.append(score_lr_D)\n",
        "\n",
        "print(\"Testing score: \", D.score(test_X, test_Y)*100,\"%\")\n",
        "testingAccList.append(D.score(test_X, test_Y))\n",
        "cv_pred_lr_D = D.predict(test_X)\n",
        "\n",
        "mse = mean_squared_error(test_Y, cv_pred_lr_D)\n",
        "mseList.append(mse)\n",
        "RMSE.append(np.sqrt(metrics.mean_squared_error(test_Y, cv_pred_lr_D)))\n",
        "print(\"MSE: %.2f\" % mse)\n",
        "print(\"RMSE: %.2f\" % np.sqrt(metrics.mean_squared_error(test_Y, cv_pred_lr_D)))\n",
        "print(\"testing R2 score\",r2_score(test_Y, cv_pred_lr_D)) "
      ],
      "execution_count": 31,
      "outputs": [
        {
          "output_type": "stream",
          "text": [
            "Training score:  91.97492555426852 %\n",
            "Testing score:  73.18926056151166 %\n",
            "MSE: 0.00\n",
            "RMSE: 0.04\n",
            "testing R2 score 0.7318926056151165\n"
          ],
          "name": "stdout"
        }
      ]
    },
    {
      "cell_type": "code",
      "metadata": {
        "id": "xRbnObqKZ1zS",
        "colab_type": "code",
        "colab": {
          "base_uri": "https://localhost:8080/",
          "height": 34
        },
        "outputId": "80dd46b0-f4ff-4bc7-b48d-7b6092354b51"
      },
      "source": [
        "List=[]\n",
        "for i in cv_pred_lr_D:\n",
        "  if i<0.17:\n",
        "    List.append(-60)\n",
        "  elif 0.17<i<0.25:\n",
        "    List.append(100)\n",
        "  elif 0.25<i<0.4:\n",
        "    List.append(200)\n",
        "  elif 0.4<i<0.5:\n",
        "    List.append(300)\n",
        "  else:\n",
        "    List.append(400)\n",
        "a=np.mean(List, axis=0)\n",
        "print(a)"
      ],
      "execution_count": 32,
      "outputs": [
        {
          "output_type": "stream",
          "text": [
            "-1.4\n"
          ],
          "name": "stdout"
        }
      ]
    },
    {
      "cell_type": "code",
      "metadata": {
        "id": "9TRCEb8jJrGk",
        "colab_type": "code",
        "colab": {
          "base_uri": "https://localhost:8080/",
          "height": 408
        },
        "outputId": "fb506981-5431-47f1-94ea-fd45091d34be"
      },
      "source": [
        "import numpy as np\n",
        "import matplotlib.pyplot as plt\n",
        "height =mseList\n",
        "bars = ('LR',\n",
        " 'LGBMRegressor',\n",
        " 'XGBRegressor',\n",
        " 'GradientBoostingRegressor',\n",
        " 'RandomForestRegressor')\n",
        "y_pos = np.arange(len(bars))\n",
        "plt.bar(y_pos, height, color = ['blue','green','red','cyan','magenta','yellow'])\n",
        "plt.title('MSE for different model')\n",
        "plt.ylabel('MSE')\n",
        "Limit=min(mseList)\n",
        "plt.ylim(0.001, 0.0023)\n",
        "plt.xticks(y_pos, bars,rotation=90)\n",
        "plt.show()"
      ],
      "execution_count": 17,
      "outputs": [
        {
          "output_type": "display_data",
          "data": {
            "image/png": "[encoded data removed]",
            "text/plain": [
              "<Figure size 432x288 with 1 Axes>"
            ]
          },
          "metadata": {
            "tags": [],
            "needs_background": "light"
          }
        }
      ]
    }
  ]
}