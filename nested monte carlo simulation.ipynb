{
 "cells": [
  {
   "cell_type": "code",
   "execution_count": 2,
   "metadata": {},
   "outputs": [],
   "source": [
    "import numpy as np\n",
    "import pandas as pd  \n",
    "from numpy import newaxis\n",
    "import matplotlib.pyplot as plt\n",
    "from sklearn.linear_model import LinearRegression\n",
    "import scikitplot as skplt\n",
    "#import xgboost as xgb\n",
    "import seaborn as seabornInstance \n",
    "from sklearn.neural_network import MLPRegressor\n",
    "from sklearn.metrics import mean_squared_error\n",
    "from sklearn.linear_model import ElasticNetCV\n",
    "from sklearn.linear_model import LassoCV\n",
    "from sklearn.linear_model import RidgeCV\n",
    "from sklearn.ensemble import RandomForestRegressor\n",
    "from sklearn.model_selection import cross_val_predict, cross_val_score, KFold\n",
    "from keras.models import Sequential\n",
    "from keras.layers import Dense\n",
    "from keras.layers import LSTM\n",
    "from keras.layers import Dropout\n",
    "from sklearn import tree\n",
    "import warnings\n",
    "warnings.filterwarnings('ignore')"
   ]
  },
  {
   "cell_type": "markdown",
   "metadata": {},
   "source": [
    "# Baseline "
   ]
  },
  {
   "cell_type": "code",
   "execution_count": 44,
   "metadata": {},
   "outputs": [],
   "source": [
    "import numpy as np\n",
    "T=10\n",
    "n_sim=10000\n",
    "buyout=100\n",
    "buy_year=5\n",
    "r=0.05#risk free risk\n",
    "price_0=25#oil price\n",
    "price_sigma=0.15\n",
    "opex_0=10.2\n",
    "opex_sigma=0.1\n",
    "quant=np.array([9, 7.7, 6.5, 5.5, 4.7, 4, 3.4, 2.9, 2.5, 2.1])\n",
    "capex=5\n",
    "rng = np.random.RandomState(1)\n",
    "\n",
    "\n",
    "# price matrix and opex matrix\n",
    "price = np.c_[np.ones((n_sim, 1))*price_0, np.empty([n_sim, T - 1])]\n",
    "opex = np.c_[np.ones((n_sim, 1))*opex_0, np.empty([n_sim, T - 1])]\n",
    "\n",
    "# simulate prices (GBM) and opex \n",
    "for t in np.arange(1,T):\n",
    "    price[:, t] = price[:, t - 1] * np.exp(-0.5*(price_sigma**2)*1 + \n",
    "                                           price_sigma*rng.randn(n_sim).T)\n",
    "    \n",
    "    opex[:, t] = opex[:, t - 1] * np.exp(0.02-0.5*((opex_sigma)**2)*1 +\n",
    "                                            opex_sigma*rng.randn(n_sim).T)\n",
    "\n",
    "\n",
    "rev_gross = quant*price\n",
    "cost = quant*opex\n",
    "rev_net = rev_gross-cost-capex\n",
    "net_cf = rev_net * 3/4\n",
    "dis_fact = np.array([(1 + r)**(-i - 1) for i in range(T)])\n",
    "\n",
    "# net present value of cash flows\n",
    "npv = (net_cf * dis_fact).sum(axis=1)\n",
    "\n",
    "# net present value of cash flows in years 6-10\n",
    "npv_cont = (net_cf[:, buy_year:] * dis_fact[buy_year:]).sum(axis=1)\n",
    "\n",
    "# put together regressor matrix with price and opex in buyout year\n",
    "X_price = price[:, buy_year]\n",
    "X_opex = opex[:, buy_year]\n",
    "X = np.c_[X_price, X_opex]"
   ]
  },
  {
   "cell_type": "code",
   "execution_count": 45,
   "metadata": {},
   "outputs": [
    {
     "name": "stdout",
     "output_type": "stream",
     "text": [
      "Traing data size:  (9500, 2)\n",
      "Testing data size:  (500, 2)\n"
     ]
    }
   ],
   "source": [
    "Y = npv_cont[..., newaxis]\n",
    "\n",
    "train_X = X[500:]\n",
    "test_X = X[:500]\n",
    "train_Y = Y[500:]\n",
    "test_Y = Y[:500]\n",
    "\n",
    "print(\"Traing data size: \", train_X.shape)\n",
    "print(\"Testing data size: \", test_X.shape)\n",
    "\n",
    "algorithmName = []\n",
    "trainingAccList = []\n",
    "testingAccList = []\n",
    "mseList = []"
   ]
  },
  {
   "cell_type": "code",
   "execution_count": 46,
   "metadata": {},
   "outputs": [],
   "source": [
    "# define model I am using for regression\n",
    "lr = LinearRegression()\n",
    "\n",
    "# training process\n",
    "lr.fit(train_X, train_Y)\n",
    "\n",
    "algorithmName.append(\"LR\")"
   ]
  },
  {
   "cell_type": "code",
   "execution_count": 47,
   "metadata": {},
   "outputs": [
    {
     "name": "stdout",
     "output_type": "stream",
     "text": [
      "MSE: 822.16\n",
      "RMSE: 411.08\n"
     ]
    }
   ],
   "source": [
    "cv_pred_lr = lr.predict(test_X)\n",
    "\n",
    "mse = mean_squared_error(test_Y, cv_pred_lr)\n",
    "mseList.append(mse)\n",
    "print(\"MSE: %.2f\" % mse)\n",
    "print(\"RMSE: %.2f\" % (mse*(1/2.0)))"
   ]
  },
  {
   "cell_type": "code",
   "execution_count": 48,
   "metadata": {},
   "outputs": [
    {
     "name": "stdout",
     "output_type": "stream",
     "text": [
      "The ENPV of the project without the option is $390.7\n",
      "The ENPV of the project with the option is $420.3\n",
      "The value of the option to sell in year 5 is $29.6\n"
     ]
    }
   ],
   "source": [
    "# if estimated continuation value < buyout price, sell\n",
    "# if estimated continuation value > buyout price, don't sell\n",
    "max_val = []\n",
    "results=[]\n",
    "for i in cv_pred_lr:\n",
    "    if i<100:\n",
    "        max_val.append(100)\n",
    "    elif 100<i<120:\n",
    "        max_val.append(i)\n",
    "    else:\n",
    "        max_val.append(i-40+(i/3-40))\n",
    "# expected NPV with option\n",
    "\n",
    "enpv_w_opt = ((net_cf[:, :buy_year] * dis_fact[:buy_year]).sum(axis=1)).mean(axis=0) + np.mean(max_val,axis=0)+capex\n",
    "# expected NPV without the option\n",
    "enpv_wo_opt = npv.mean(axis=0) \n",
    "opt_val = enpv_w_opt - enpv_wo_opt\n",
    "\n",
    "print (\"The ENPV of the project without the option is $%.1f\" % enpv_wo_opt)\n",
    "print (\"The ENPV of the project with the option is $%.1f\" % enpv_w_opt)\n",
    "print (\"The value of the option to sell in year %s is $%.1f\" % (buy_year, opt_val))"
   ]
  },
  {
   "cell_type": "markdown",
   "metadata": {},
   "source": [
    "# Nested Monte carlo Simulation "
   ]
  },
  {
   "cell_type": "code",
   "execution_count": 50,
   "metadata": {},
   "outputs": [],
   "source": [
    "T=5\n",
    "N_sim=100\n",
    "rng = np.random.RandomState(1)\n",
    "Lists=[]\n",
    "for i in range(len(X_price)):\n",
    "    price = np.c_[np.ones((N_sim, 1))*X_price[i], np.empty([N_sim, T - 1])]\n",
    "    for t in np.arange(1,T):\n",
    "        price[:, t] = price[:, t - 1] * np.exp(-0.5*(price_sigma**2)*1 + \n",
    "                                           price_sigma*rng.randn(N_sim).T)\n",
    "    Lists.append(price)"
   ]
  },
  {
   "cell_type": "code",
   "execution_count": 51,
   "metadata": {},
   "outputs": [],
   "source": [
    "price2=np.array(Lists)"
   ]
  },
  {
   "cell_type": "code",
   "execution_count": 52,
   "metadata": {},
   "outputs": [],
   "source": [
    "T=5\n",
    "N_sim=100\n",
    "rng = np.random.RandomState(1)\n",
    "copy=[]\n",
    "for i in range(len(X_price)):\n",
    "    opex = np.c_[np.ones((N_sim, 1))*X_opex[i], np.empty([N_sim, T - 1])]\n",
    "    for t in np.arange(1,T):\n",
    "        opex[:, t] = opex[:, t - 1] * np.exp(-0.5*(opex_sigma**2)*1 + \n",
    "                                           opex_sigma*rng.randn(N_sim).T)\n",
    "    copy.append(opex)"
   ]
  },
  {
   "cell_type": "code",
   "execution_count": 53,
   "metadata": {},
   "outputs": [],
   "source": [
    "opex2=np.array(copy)"
   ]
  },
  {
   "cell_type": "code",
   "execution_count": 54,
   "metadata": {},
   "outputs": [],
   "source": [
    "quant2=np.array([4, 3.4, 2.9, 2.5, 2.1])\n",
    "rev_gross2 = quant2*price2\n",
    "cost2 = quant2*opex2\n",
    "rev_net2 = rev_gross2-cost2-capex\n",
    "net_cf2 = rev_net2 * 3/4\n",
    "dis_fact2 = np.array([0.7462154 , 0.71068133, 0.67683936, 0.64460892, 0.61391325])\n",
    "\n",
    "npv_cont2 = net_cf2 * dis_fact2"
   ]
  },
  {
   "cell_type": "code",
   "execution_count": 55,
   "metadata": {},
   "outputs": [],
   "source": [
    "npv_cont3=npv_cont2.mean(1).sum(axis=1)"
   ]
  },
  {
   "cell_type": "code",
   "execution_count": 63,
   "metadata": {},
   "outputs": [
    {
     "name": "stdout",
     "output_type": "stream",
     "text": [
      "The ENPV of the project without the option is $390.7\n",
      "The ENPV of the project with the option is $424.1\n",
      "The value of the option to sell in year 5 is $33.4\n"
     ]
    }
   ],
   "source": [
    "# if estimated continuation value < buyout price, sell\n",
    "# if estimated continuation value > buyout price, don't sell\n",
    "max_val = []\n",
    "results=[]\n",
    "for i in test_Y:\n",
    "    if i<100:\n",
    "        max_val.append(100)\n",
    "    elif 100<i<120:\n",
    "        max_val.append(i)\n",
    "    else:\n",
    "        max_val.append(i-40+(i/3-40))\n",
    "# expected NPV with option\n",
    "enpv_w_opt = ((net_cf[:, :buy_year] * dis_fact[:buy_year]).sum(axis=1)).mean(axis=0) + np.mean(max_val,axis=0)+capex \n",
    "# expected NPV without the option\n",
    "enpv_wo_opt = npv.mean(axis=0) \n",
    "opt_val = enpv_w_opt - enpv_wo_opt\n",
    "\n",
    "print (\"The ENPV of the project without the option is $%.1f\" % enpv_wo_opt)\n",
    "print (\"The ENPV of the project with the option is $%.1f\" % enpv_w_opt)\n",
    "print (\"The value of the option to sell in year %s is $%.1f\" % (buy_year, opt_val))"
   ]
  },
  {
   "cell_type": "code",
   "execution_count": 57,
   "metadata": {},
   "outputs": [
    {
     "data": {
      "text/plain": [
       "[<matplotlib.lines.Line2D at 0x13f3f2d90>]"
      ]
     },
     "execution_count": 57,
     "metadata": {},
     "output_type": "execute_result"
    },
    {
     "data": {
      "image/png": "[encoded data removed]",
      "text/plain": [
       "<Figure size 432x288 with 1 Axes>"
      ]
     },
     "metadata": {
      "needs_background": "light"
     },
     "output_type": "display_data"
    }
   ],
   "source": [
    "plt.plot(npv_cont3[:500])\n",
    "plt.plot(cv_pred_lr)\n",
    "#plt.plot(test_Y)"
   ]
  },
  {
   "cell_type": "code",
   "execution_count": 58,
   "metadata": {},
   "outputs": [
    {
     "data": {
      "text/plain": [
       "(500,)"
      ]
     },
     "execution_count": 58,
     "metadata": {},
     "output_type": "execute_result"
    }
   ],
   "source": [
    "npv_cont3[:500].shape"
   ]
  },
  {
   "cell_type": "code",
   "execution_count": 62,
   "metadata": {},
   "outputs": [
    {
     "data": {
      "image/png": "[encoded data removed]",
      "text/plain": [
       "<Figure size 1152x720 with 1 Axes>"
      ]
     },
     "metadata": {
      "needs_background": "light"
     },
     "output_type": "display_data"
    }
   ],
   "source": [
    "#   creating dataframe of actual vs predicted values\n",
    "df = pd.DataFrame({'Nested MC': npv_cont3[:500].flatten(), 'Linear MC': cv_pred_lr.flatten(),'Single MC':test_Y.flatten()})\n",
    "#   plotting actual vs predicted values\n",
    "df1 = df.head(25)\n",
    "#style = 'dark_background'\n",
    "df1.plot(kind='bar',figsize=(16,10))\n",
    "#plt.style.use(style)\n",
    "plt.grid(which='major', linestyle='-', linewidth='0.5', color='green')\n",
    "plt.grid(which='minor', linestyle=':', linewidth='0.5', color='black')\n",
    "plt.show()"
   ]
  },
  {
   "cell_type": "code",
   "execution_count": null,
   "metadata": {},
   "outputs": [],
   "source": []
  }
 ],
 "metadata": {
  "kernelspec": {
   "display_name": "Python 3",
   "language": "python",
   "name": "python3"
  },
  "language_info": {
   "codemirror_mode": {
    "name": "ipython",
    "version": 3
   },
   "file_extension": ".py",
   "mimetype": "text/x-python",
   "name": "python",
   "nbconvert_exporter": "python",
   "pygments_lexer": "ipython3",
   "version": "3.8.3"
  }
 },
 "nbformat": 4,
 "nbformat_minor": 4
}
